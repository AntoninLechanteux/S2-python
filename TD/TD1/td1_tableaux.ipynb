{
 "cells": [
  {
   "cell_type": "markdown",
   "id": "be85f431",
   "metadata": {},
   "source": [
    "# TD : Listes en python "
   ]
  },
  {
   "cell_type": "markdown",
   "id": "d3b61e58",
   "metadata": {},
   "source": [
    "## Exercice 1 : Insertion dans un tableau"
   ]
  },
  {
   "cell_type": "markdown",
   "id": "ab5ca9bd",
   "metadata": {},
   "source": [
    "Définir une fonction `insertion_tableau` prenant en paramètre une liste `L`, une valeur `v` et un indice `i` et insérant la valeur `v` à l'indice `i` dans `L` (fonction comparable à `L.insert(i,v)` définie en Python). \n",
    "\n",
    "Cette fonction ne doit pas utiliser la fonction `L.insert`, seule la fonction  `L.append` est permise pour augmenter la taille du tableau."
   ]
  },
  {
   "cell_type": "code",
   "execution_count": null,
   "id": "819186c2",
   "metadata": {},
   "outputs": [
    {
     "name": "stdout",
     "output_type": "stream",
     "text": [
      "[0, 59, 563, 2, 3, 37, 5]\n"
     ]
    }
   ],
   "source": [
    "L=[0,59,2,3,37,5]x\n",
    "\n",
    "def insertiontableau(L,v,i):\n",
    "    L += [L[-1]]\n",
    "    for j in range(len(L)-i):\n",
    "        L[len(L)-j-1] = L[len(L)-j-2]\n",
    "    L[i]=v\n",
    "    \n",
    "insertiontableau(L,563,2)\n",
    "print(L)\n"
   ]
  },
  {
   "cell_type": "markdown",
   "id": "22ba9e3d",
   "metadata": {},
   "source": [
    "Quelle est la complexité asymptotique de la fonction `insertion_tableau` ?"
   ]
  },
  {
   "cell_type": "markdown",
   "id": "054a87b7",
   "metadata": {},
   "source": [
    "**Réponse :** On répète des actions de complexité O(1) dans une boucle de longueur len(L), le programme est de complexité O(n) avec n la longueur de la liste\n",
    "\n",
    "\n"
   ]
  },
  {
   "cell_type": "markdown",
   "id": "dc37421a",
   "metadata": {},
   "source": [
    "## Exercice 2 : suppression d'un élément dans un tableau\n",
    "\n",
    "Définir la fonction `suppression_tableau` prenant en paramètre un tableau et un indice et supprimant dans le tableau l'élément se trouvant à l'indice donné (fonction similaire à `L.pop(i)`). \n",
    "\n",
    "Pour supprimer un élément, la fonction peut juste appeler la fonction `L.pop()` (sans argument) pour supprimer la dernière case."
   ]
  },
  {
   "cell_type": "code",
   "execution_count": null,
   "id": "4e43f211",
   "metadata": {},
   "outputs": [
    {
     "name": "stdout",
     "output_type": "stream",
     "text": [
      "[79, 35, 48, 66, 10, 57, 25, 68, 95, 84]\n",
      "9\n",
      "Liste modifiée en enlevant le 9 ème élément [79, 35, 48, 66, 10, 57, 25, 68, 95]\n"
     ]
    }
   ],
   "source": [
    "from random import*\n",
    "\n",
    "L=[randint(1,100) for i in range(10)]\n",
    "print(L)\n",
    "nombre = randint(0,9)\n",
    "print(nombre)\n",
    "\n",
    "def suppression_tableau(L,i):\n",
    "    \n",
    "    L = [L[j] for j in range(0,i)] + [L[k] for k in range(i+1, len(L))]\n",
    "    print(f\"Liste modifiée en enlevant le {i} ème élément\", L)\n",
    "\n",
    "suppression_tableau(L, nombre)\n",
    "\n",
    "\n"
   ]
  },
  {
   "cell_type": "markdown",
   "id": "8802355e",
   "metadata": {},
   "source": [
    "Quelle est la complexité de la fonction `suppression_tableau` ?"
   ]
  },
  {
   "cell_type": "markdown",
   "id": "246bb043",
   "metadata": {},
   "source": [
    "**Réponse :** On répète une opération de copie de complexité O(1), répétée un nombre de fois égal à la longueur de la liste, la complexité est donc O(n) avec n la longueur de la liste\n",
    "\n",
    "\n"
   ]
  },
  {
   "cell_type": "markdown",
   "id": "5d0ad0bb",
   "metadata": {},
   "source": [
    "## Exercice 3 : Copie d'un tableau"
   ]
  },
  {
   "cell_type": "markdown",
   "id": "5609d833",
   "metadata": {},
   "source": [
    "Définir la fonction `copie_tableau` retournant une copie du tableau `L` passé en paramètre (fonction comparable à `L.copy()`). \n",
    "\n",
    "Cette fonction ne doit pas utiliser la fonction `L.copy`, seule la fonction `L.append` est permise pour augmenter la taille du tableau."
   ]
  },
  {
   "cell_type": "code",
   "execution_count": null,
   "id": "4005b8bd",
   "metadata": {},
   "outputs": [
    {
     "name": "stdout",
     "output_type": "stream",
     "text": [
      "[77, 83, 11, 39, 10, 15, 97, 65, 81, 2]\n",
      "[76, 52, 92, 99, 18, 37, 92, 81, 68, 86]\n",
      "[77, 83, 11, 39, 10, 15, 97, 65, 81, 2]\n"
     ]
    }
   ],
   "source": [
    "from random import*\n",
    "\n",
    "L=[randint(1,100) for i in range(10)]\n",
    "print(L)\n",
    "\n",
    "def copie_tableau(L):\n",
    "    L_copie = []\n",
    "    for i in range(len(L)):\n",
    "        L_copie += [L[i]]\n",
    "    return L_copie\n",
    "\n",
    "L_copie = copie_tableau(L)\n",
    "\n",
    "L=[randint(1,100) for i in range(10)]\n",
    "print(L)\n",
    "print(L_copie)\n",
    "\n"
   ]
  },
  {
   "cell_type": "markdown",
   "id": "186a6d56",
   "metadata": {},
   "source": [
    "Quelle est la complexité asymptotique de la fonction `copie_tableau` ?"
   ]
  },
  {
   "cell_type": "markdown",
   "id": "ae1d9a69",
   "metadata": {},
   "source": [
    "**Réponse :** Même réponse que les 2 précédentes, donc O(n)\n",
    "\n"
   ]
  },
  {
   "cell_type": "markdown",
   "id": "4ceae464",
   "metadata": {},
   "source": [
    "## Exercice 4 : Fonctions sur des  listes (tableaux) triées ou non triées"
   ]
  },
  {
   "cell_type": "markdown",
   "id": "574d0c22",
   "metadata": {},
   "source": [
    "Les questions de cet exercice ont pour objet de manipuler les listes/tableaux en Python et de comparer ce qui se passe si on travaille avec des tableaux triés ou des tableaux quelconques. Pour chacune des fonctions à implémenter, on définira deux versions : \n",
    "\n",
    "* une première version prendra en paramètre une liste de nombres quelconques. Pour plus d'efficacité, la fonction pourra modifier l'ordre des éléments dans la liste,\n",
    "\n",
    "* la seconde version prendra en paramètre une liste de nombres triés dans l'ordre croissant ; la liste devra rester triée."
   ]
  },
  {
   "cell_type": "markdown",
   "id": "58b2468f",
   "metadata": {},
   "source": [
    "### Question 1 : Minimum d'un tableau"
   ]
  },
  {
   "cell_type": "markdown",
   "id": "375c7038",
   "metadata": {},
   "source": [
    "* Définir la fonction `minimum_tableau` prenant en paramètre un tableau de nombres et retournant le minimum."
   ]
  },
  {
   "cell_type": "code",
   "execution_count": null,
   "id": "b7691aff",
   "metadata": {},
   "outputs": [
    {
     "name": "stdout",
     "output_type": "stream",
     "text": [
      "[82, 11, 96, 94, 44, 16, 95, 96, 87, 73]\n",
      "11\n"
     ]
    }
   ],
   "source": [
    "from random import*\n",
    "\n",
    "L=[randint(1,100) for i in range(10)]\n",
    "print(L)\n",
    "\n",
    "def minimum_tableau(L):\n",
    "    min = L[0]\n",
    "    for i in range(len(L)):\n",
    "        if L[i]<min :\n",
    "            min = L[i]\n",
    "    return min\n",
    "        \n",
    "print(minimum_tableau(L))\n"
   ]
  },
  {
   "cell_type": "markdown",
   "id": "9ab838ac",
   "metadata": {},
   "source": [
    "* Définir la fonction `minimum_tableau_trie` prenant en paramètre un tableau de nombres triés dans l'ordre croissant et retournant le minimum."
   ]
  },
  {
   "cell_type": "code",
   "execution_count": null,
   "id": "43dc27a9",
   "metadata": {},
   "outputs": [
    {
     "name": "stdout",
     "output_type": "stream",
     "text": [
      "[3, 4, 5, 6, 7, 8, 9, 10, 11, 12, 13, 14, 15, 16, 17, 18]\n",
      "3\n"
     ]
    }
   ],
   "source": [
    "from random import*\n",
    "\n",
    "L=[i for i in range(randint(0,10),randint(10,20))]\n",
    "print(L)\n",
    "\n",
    "def minimum_tableau_trie(L): \n",
    "    return L[0]\n",
    "\n",
    "print(minimum_tableau_trie(L))\n",
    "\n",
    "\n",
    "\n"
   ]
  },
  {
   "cell_type": "markdown",
   "id": "3c0be105",
   "metadata": {},
   "source": [
    "- Quelle est la complexité dans le pire des cas de chacune de ces fonctions ?"
   ]
  },
  {
   "cell_type": "markdown",
   "id": "8df8d5fc",
   "metadata": {},
   "source": [
    "**Réponse :** Pour un tableau non trié, on doit parcourir sa longueur donc O(n), pour un tableau trié on ne réalise qu'une opération donc O(1)\n",
    "\n",
    "\n"
   ]
  },
  {
   "cell_type": "markdown",
   "id": "cc46e812",
   "metadata": {},
   "source": [
    "### Question 2 : Ajout d'un élément"
   ]
  },
  {
   "cell_type": "markdown",
   "id": "9bf7eb72",
   "metadata": {},
   "source": [
    "* Définir la fonction `ajouter_tableau` ajoutant un nombre à un tableau de nombres."
   ]
  },
  {
   "cell_type": "code",
   "execution_count": null,
   "id": "301fd382",
   "metadata": {},
   "outputs": [
    {
     "name": "stdout",
     "output_type": "stream",
     "text": [
      "23\n",
      "[87, 66, 10, 84, 60, 42, 86, 55, 64, 17]\n",
      "[87, 66, 10, 84, 60, 42, 86, 55, 64, 17, 23]\n"
     ]
    }
   ],
   "source": [
    "from random import*\n",
    "\n",
    "nombre = randint(0,100)\n",
    "print(nombre)\n",
    "L=[randint(1,100) for i in range(10)]\n",
    "print(L)\n",
    "\n",
    "def ajouter_tableau(L,nombre):\n",
    "    L += [nombre]\n",
    "    return(L)\n",
    "\n",
    "ajouter_tableau(L,nombre)\n",
    "print(L)\n",
    "\n",
    "\n"
   ]
  },
  {
   "cell_type": "markdown",
   "id": "174a04b8",
   "metadata": {},
   "source": [
    "* Définir la fonction `ajouter_tableau_trie` ajoutant un nombre à un tableau trié."
   ]
  },
  {
   "cell_type": "code",
   "execution_count": null,
   "id": "5fd13390",
   "metadata": {},
   "outputs": [
    {
     "name": "stdout",
     "output_type": "stream",
     "text": [
      "20\n",
      "[2, 3, 4, 5, 6, 7, 8, 9, 10, 11, 12, 13, 14, 15, 16, 17, 18, 19]\n",
      "[2, 3, 4, 5, 6, 7, 8, 9, 10, 11, 12, 13, 14, 15, 16, 17, 18, 19, 20]\n"
     ]
    }
   ],
   "source": [
    "### A REFAIRE\n",
    "\n",
    "from random import*\n",
    "\n",
    "nombre = randint(0,20)\n",
    "print(nombre)\n",
    "L=[i for i in range(randint(0,10),randint(10,20))]\n",
    "print(L)\n",
    "\n",
    "\n",
    "def ajouter_tableau_trie(L,nombre):\n",
    "    for i in range(len(L)):\n",
    "        if nombre > L[-1]:\n",
    "            L += [nombre]\n",
    "            break\n",
    "        if L[i] > nombre :\n",
    "            L[i:i+1]=(nombre, L[i])\n",
    "            break\n",
    "        \n",
    "    return(L)\n",
    "\n",
    "ajouter_tableau_trie(L,nombre)\n",
    "print(L)"
   ]
  },
  {
   "cell_type": "markdown",
   "id": "c8cf5c9a",
   "metadata": {},
   "source": [
    "- Quelle est la complexité dans le pire des cas de chacune de ces fonctions ?"
   ]
  },
  {
   "cell_type": "markdown",
   "id": "1b4a2262",
   "metadata": {},
   "source": [
    "**Réponse :** Pour un tableau non trie on ajoute un élément à la fin donc O(1), pour un tableau trié on doit le parcourir donc O(n)\n",
    "\n",
    "\n"
   ]
  },
  {
   "cell_type": "markdown",
   "id": "25e2316b",
   "metadata": {},
   "source": [
    "### Question 3 : Suppression d'un élément"
   ]
  },
  {
   "cell_type": "markdown",
   "id": "e8d1c80a",
   "metadata": {},
   "source": [
    "* Définir la fonction `supprimer_tableau` prenant en paramètre un tableau et une valeur `id` et supprimant dans le tableau la valeur `id`.\n",
    "\n",
    "  On utilisera pour cela la fonction `L.pop()` qui supprime la dernière case d'un tableau, mais pas la fonction `L.pop(i)`"
   ]
  },
  {
   "cell_type": "code",
   "execution_count": null,
   "id": "a6ef9c4d",
   "metadata": {},
   "outputs": [
    {
     "name": "stdout",
     "output_type": "stream",
     "text": [
      "[1, 3, 3, 3, 1, 1, 3, 2, 3, 2]\n",
      "[1, 3, 3, 1, 1, 3, 2, 3, 2]\n",
      "[1, 3, 1, 1, 3, 2, 3, 2]\n",
      "[1, 1, 1, 3, 2, 3, 2]\n",
      "[1, 1, 1, 2, 3, 2]\n",
      "[1, 1, 1, 2, 2]\n",
      "[1, 1, 1, 2, 2]\n"
     ]
    }
   ],
   "source": [
    "### A REFAIRE\n",
    "\n",
    "from random import*\n",
    "\n",
    "L=[randint(1,3) for i in range(10)]\n",
    "print(L)\n",
    "\n",
    "def supprimer_tableau(L,id):\n",
    "    i = 0\n",
    "    if L[-1] == id:\n",
    "        L[-3:]=L[-3:-1]\n",
    "    while i < len(L)-1:\n",
    "        if L[i] == id :\n",
    "            L[i:i+2]= [L[i+1]]\n",
    "            print(L)\n",
    "        else:\n",
    "            i += 1\n",
    "    return(L)\n",
    "\n",
    "\n",
    "supprimer_tableau(L, 3)\n",
    "print(L)\n",
    "\n"
   ]
  },
  {
   "cell_type": "markdown",
   "id": "68841116",
   "metadata": {},
   "source": [
    "- Quelle est la complexité dans le pire des cas de chacune de ces fonctions ?"
   ]
  },
  {
   "cell_type": "markdown",
   "id": "5b97f658",
   "metadata": {},
   "source": [
    "**Réponse :** On  doit dans les 2 cas parcourir le tableau donc O(n)\n",
    "\n",
    "\n"
   ]
  },
  {
   "cell_type": "markdown",
   "id": "d1d50a96",
   "metadata": {},
   "source": [
    "## Exercice 5 : Réarrangement de tableau**"
   ]
  },
  {
   "cell_type": "markdown",
   "id": "06d5fd67",
   "metadata": {},
   "source": [
    "### Question 1\n",
    "\n",
    "Écrire une fonction `deplacer(T, k)` prenant en paramètre un tableau `T` et une valeur `k` et permutant les valeurs du tableau `T` de manière à ce que toutes les valeurs strictement inférieures à `k` soient au début de tableau. "
   ]
  },
  {
   "cell_type": "markdown",
   "id": "7af5b494",
   "metadata": {},
   "source": [
    "**Remarque :** L'ordre des éléments dans le tableau n'a pas d'importance tant que les éléments strictement inférieurs à `k` sont placés au début du tableau."
   ]
  },
  {
   "cell_type": "code",
   "execution_count": null,
   "id": "9fb113ae",
   "metadata": {},
   "outputs": [
    {
     "name": "stdout",
     "output_type": "stream",
     "text": [
      "[2, 9, 10, 4, 9, 6, 5, 3, 3, 6]\n",
      "[2, 9, 10, 4, 9, 6, 5, 3, 3, 6]\n"
     ]
    }
   ],
   "source": [
    "from random import*\n",
    "\n",
    "L = [randint(0,10) for i in range(10)]\n",
    "print(L)\n",
    "\n",
    "def déplacer(L,k):\n",
    "    for i in range(1,len(L)):\n",
    "        if L[i]<k:\n",
    "            L[0:i+1]=[L[i]]+ L[0:i]\n",
    "    return L\n",
    "\n",
    "déplacer(L,3)\n",
    "print(L)"
   ]
  },
  {
   "cell_type": "markdown",
   "id": "2639c02f",
   "metadata": {},
   "source": [
    "### Question 2\n",
    "\n",
    "Définir une fonction de tests unitaires de la fonction `deplacer`."
   ]
  },
  {
   "cell_type": "code",
   "execution_count": null,
   "id": "1e8914db",
   "metadata": {},
   "outputs": [
    {
     "name": "stdout",
     "output_type": "stream",
     "text": [
      "[7, 2, 3, 7, 10, 8, 1, 6, 2, 1]\n",
      "On déplace le 2 ème terme car 2 < 3 : [2, 7, 3, 7, 10, 8, 1, 6, 2, 1]\n",
      "On déplace le 7 ème terme car 1 < 3 : [1, 2, 7, 3, 7, 10, 8, 6, 2, 1]\n",
      "On déplace le 9 ème terme car 2 < 3 : [2, 1, 2, 7, 3, 7, 10, 8, 6, 1]\n",
      "On déplace le 10 ème terme car 1 < 3 : [1, 2, 1, 2, 7, 3, 7, 10, 8, 6]\n",
      "[1, 2, 1, 2, 7, 3, 7, 10, 8, 6]\n"
     ]
    }
   ],
   "source": [
    "from random import*\n",
    "\n",
    "L = [randint(0,10) for i in range(10)]\n",
    "print(L)\n",
    "\n",
    "def déplacer(L,k):\n",
    "    for i in range(1,len(L)):\n",
    "        if L[i]<k:\n",
    "            L[0:i+1]=[L[i]]+ L[0:i]\n",
    "            print(f\"On déplace le {i+1} ème terme car {L[0]} < {k} :\",L)\n",
    "    return L\n",
    "\n",
    "déplacer(L,3)\n",
    "print(L)\n",
    "\n"
   ]
  }
 ],
 "metadata": {
  "celltoolbar": "Format de la Cellule Texte Brut",
  "kernelspec": {
   "display_name": "Python 3",
   "language": "python",
   "name": "python3"
  },
  "language_info": {
   "codemirror_mode": {
    "name": "ipython",
    "version": 3
   },
   "file_extension": ".py",
   "mimetype": "text/x-python",
   "name": "python",
   "nbconvert_exporter": "python",
   "pygments_lexer": "ipython3",
   "version": "3.8.5"
  },
  "toc": {
   "base_numbering": 1,
   "nav_menu": {},
   "number_sections": false,
   "sideBar": false,
   "skip_h1_title": false,
   "title_cell": "Table of Contents",
   "title_sidebar": "Contents",
   "toc_cell": false,
   "toc_position": {},
   "toc_section_display": false,
   "toc_window_display": false
  }
 },
 "nbformat": 4,
 "nbformat_minor": 5
}
